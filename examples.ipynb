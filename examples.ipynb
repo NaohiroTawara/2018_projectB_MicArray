{
 "cells": [
  {
   "cell_type": "code",
   "execution_count": 15,
   "metadata": {},
   "outputs": [],
   "source": [
    "import numpy as np\n",
    "from scipy import io\n",
    "from libs.utils import read_int16_as_float32, write__float32_as_int16\n",
    "%matplotlib inline\n",
    "import matplotlib.pyplot as plt\n",
    "from libs.utils import down_sampling\n",
    "import IPython.display"
   ]
  },
  {
   "cell_type": "code",
   "execution_count": 16,
   "metadata": {},
   "outputs": [],
   "source": [
    "def conv_imp(target_wav, chs=[3,4], degree='270'):\n",
    "    impfile = 'MIRD/Impulse_response_Acoustic_Lab_Bar-Ilan_University_(Reverberation_0.160s)_3-3-3-8-3-3-3_1m_{}.mat'.format(degree)\n",
    "    matdata = io.loadmat(impfile,squeeze_me=True)\n",
    "    imp_mat = matdata[\"impulse_response\"]\n",
    "    imps = [down_sampling(imp_mat[200:7000,ch], 48000, 16000) for ch in chs]\n",
    "    #imps = [imp_mat[200:10000,ch] for ch in chs]\n",
    "    #plt.figure();plt.plot(imps[0])\n",
    "    target_wavs=[]\n",
    "    for imp, ch in zip(imps, chs):\n",
    "        target_wavs.append(np.convolve(target_wav, imp))\n",
    "    return np.array(target_wavs)\n",
    "\n",
    "\n",
    "def make_noisy(angles, snr):\n",
    "    noise_wav = read_int16_as_float32('MIRD/{}.wav'.format('09'), 16000)\n",
    "    clean_wav = read_int16_as_float32('MIRD/nf001001.wav', 16000)\n",
    "    \n",
    "    clean_multi = conv_imp(clean_wav, chs=[3,4], degree='000')\n",
    "    noises_multi = np.zeros(clean_multi.shape)\n",
    "    for angle in angles:\n",
    "        noise_multi = conv_imp(noise_wav, chs=[3,4], degree='{:03}'.format(360-angle))\n",
    "        noise_multi = noise_multi[:,:clean_multi.shape[1]]\n",
    "        noises_multi = noises_multi + noise_multi\n",
    "    coeff = calc_noise_coeff(noises_multi[0,:], clean_multi[0,:], snr)\n",
    "    noisy_multi = clean_multi + noises_multi * coeff\n",
    "    return noisy_multi"
   ]
  },
  {
   "cell_type": "code",
   "execution_count": null,
   "metadata": {},
   "outputs": [],
   "source": [
    "make_noisy(30, -10)"
   ]
  },
  {
   "cell_type": "code",
   "execution_count": null,
   "metadata": {},
   "outputs": [],
   "source": []
  }
 ],
 "metadata": {
  "kernelspec": {
   "display_name": "Python 3",
   "language": "python",
   "name": "python3"
  },
  "language_info": {
   "codemirror_mode": {
    "name": "ipython",
    "version": 3
   },
   "file_extension": ".py",
   "mimetype": "text/x-python",
   "name": "python",
   "nbconvert_exporter": "python",
   "pygments_lexer": "ipython3",
   "version": "3.5.5"
  }
 },
 "nbformat": 4,
 "nbformat_minor": 2
}
